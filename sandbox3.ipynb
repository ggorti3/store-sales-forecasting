{
 "cells": [
  {
   "cell_type": "code",
   "execution_count": 1,
   "metadata": {},
   "outputs": [],
   "source": [
    "from datetime import date, datetime, timedelta\n",
    "import matplotlib.pyplot as plt\n",
    "import numpy as np\n",
    "import pandas as pd\n",
    "from functools import reduce"
   ]
  },
  {
   "cell_type": "code",
   "execution_count": 2,
   "metadata": {},
   "outputs": [],
   "source": [
    "msles_df1 = pd.read_csv(\"store_nbr_family_best_msles2.csv\")\n",
    "msles_df2 = pd.read_csv(\"top_down_store_nbr_family_best_msles2.csv\")\n",
    "msles_df3 = pd.read_csv(\"top_down_family_then_store_nbr_best_msles2.csv\")"
   ]
  },
  {
   "cell_type": "code",
   "execution_count": 3,
   "metadata": {},
   "outputs": [],
   "source": [
    "cutoffs = msles_df1.columns[2:]"
   ]
  },
  {
   "cell_type": "code",
   "execution_count": 4,
   "metadata": {},
   "outputs": [
    {
     "data": {
      "text/html": [
       "<div>\n",
       "<style scoped>\n",
       "    .dataframe tbody tr th:only-of-type {\n",
       "        vertical-align: middle;\n",
       "    }\n",
       "\n",
       "    .dataframe tbody tr th {\n",
       "        vertical-align: top;\n",
       "    }\n",
       "\n",
       "    .dataframe thead th {\n",
       "        text-align: right;\n",
       "    }\n",
       "</style>\n",
       "<table border=\"1\" class=\"dataframe\">\n",
       "  <thead>\n",
       "    <tr style=\"text-align: right;\">\n",
       "      <th></th>\n",
       "      <th>store_nbr</th>\n",
       "      <th>family</th>\n",
       "      <th>cluster</th>\n",
       "      <th>2017-05-08</th>\n",
       "      <th>2017-06-05</th>\n",
       "      <th>2017-07-03</th>\n",
       "      <th>2017-07-31</th>\n",
       "    </tr>\n",
       "  </thead>\n",
       "  <tbody>\n",
       "    <tr>\n",
       "      <th>0</th>\n",
       "      <td>1</td>\n",
       "      <td>AUTOMOTIVE</td>\n",
       "      <td>13</td>\n",
       "      <td>0.135487</td>\n",
       "      <td>0.155650</td>\n",
       "      <td>0.319663</td>\n",
       "      <td>0.249930</td>\n",
       "    </tr>\n",
       "    <tr>\n",
       "      <th>1</th>\n",
       "      <td>1</td>\n",
       "      <td>BABY CARE</td>\n",
       "      <td>13</td>\n",
       "      <td>0.000000</td>\n",
       "      <td>0.000000</td>\n",
       "      <td>0.000000</td>\n",
       "      <td>0.000000</td>\n",
       "    </tr>\n",
       "    <tr>\n",
       "      <th>2</th>\n",
       "      <td>1</td>\n",
       "      <td>BEAUTY</td>\n",
       "      <td>13</td>\n",
       "      <td>0.133388</td>\n",
       "      <td>0.172049</td>\n",
       "      <td>0.193954</td>\n",
       "      <td>0.175956</td>\n",
       "    </tr>\n",
       "    <tr>\n",
       "      <th>3</th>\n",
       "      <td>1</td>\n",
       "      <td>BEVERAGES</td>\n",
       "      <td>13</td>\n",
       "      <td>0.036529</td>\n",
       "      <td>0.018366</td>\n",
       "      <td>0.016777</td>\n",
       "      <td>0.019927</td>\n",
       "    </tr>\n",
       "    <tr>\n",
       "      <th>4</th>\n",
       "      <td>1</td>\n",
       "      <td>BOOKS</td>\n",
       "      <td>13</td>\n",
       "      <td>0.129721</td>\n",
       "      <td>0.231963</td>\n",
       "      <td>0.134613</td>\n",
       "      <td>0.029989</td>\n",
       "    </tr>\n",
       "  </tbody>\n",
       "</table>\n",
       "</div>"
      ],
      "text/plain": [
       "   store_nbr      family  cluster  2017-05-08  2017-06-05  2017-07-03  \\\n",
       "0          1  AUTOMOTIVE       13    0.135487    0.155650    0.319663   \n",
       "1          1   BABY CARE       13    0.000000    0.000000    0.000000   \n",
       "2          1      BEAUTY       13    0.133388    0.172049    0.193954   \n",
       "3          1   BEVERAGES       13    0.036529    0.018366    0.016777   \n",
       "4          1       BOOKS       13    0.129721    0.231963    0.134613   \n",
       "\n",
       "   2017-07-31  \n",
       "0    0.249930  \n",
       "1    0.000000  \n",
       "2    0.175956  \n",
       "3    0.019927  \n",
       "4    0.029989  "
      ]
     },
     "execution_count": 4,
     "metadata": {},
     "output_type": "execute_result"
    }
   ],
   "source": [
    "msles_df = msles_df1.merge(msles_df2, on=[\"store_nbr\", \"family\"])\n",
    "for cutoff in cutoffs:\n",
    "    msles_df[cutoff] = (msles_df[[cutoff + \"_x\", cutoff + \"_y\"]]).min(axis=1)\n",
    "    msles_df = msles_df.drop([cutoff + \"_x\", cutoff + \"_y\"], axis=1)\n",
    "msles_df.head()"
   ]
  },
  {
   "cell_type": "code",
   "execution_count": 5,
   "metadata": {},
   "outputs": [
    {
     "data": {
      "text/html": [
       "<div>\n",
       "<style scoped>\n",
       "    .dataframe tbody tr th:only-of-type {\n",
       "        vertical-align: middle;\n",
       "    }\n",
       "\n",
       "    .dataframe tbody tr th {\n",
       "        vertical-align: top;\n",
       "    }\n",
       "\n",
       "    .dataframe thead th {\n",
       "        text-align: right;\n",
       "    }\n",
       "</style>\n",
       "<table border=\"1\" class=\"dataframe\">\n",
       "  <thead>\n",
       "    <tr style=\"text-align: right;\">\n",
       "      <th></th>\n",
       "      <th>store_nbr</th>\n",
       "      <th>family</th>\n",
       "      <th>cluster</th>\n",
       "      <th>2017-05-08</th>\n",
       "      <th>2017-06-05</th>\n",
       "      <th>2017-07-03</th>\n",
       "      <th>2017-07-31</th>\n",
       "    </tr>\n",
       "  </thead>\n",
       "  <tbody>\n",
       "    <tr>\n",
       "      <th>0</th>\n",
       "      <td>1</td>\n",
       "      <td>AUTOMOTIVE</td>\n",
       "      <td>13</td>\n",
       "      <td>0.135487</td>\n",
       "      <td>0.155650</td>\n",
       "      <td>0.319663</td>\n",
       "      <td>0.249930</td>\n",
       "    </tr>\n",
       "    <tr>\n",
       "      <th>1</th>\n",
       "      <td>1</td>\n",
       "      <td>BABY CARE</td>\n",
       "      <td>13</td>\n",
       "      <td>0.000000</td>\n",
       "      <td>0.000000</td>\n",
       "      <td>0.000000</td>\n",
       "      <td>0.000000</td>\n",
       "    </tr>\n",
       "    <tr>\n",
       "      <th>2</th>\n",
       "      <td>1</td>\n",
       "      <td>BEAUTY</td>\n",
       "      <td>13</td>\n",
       "      <td>0.133388</td>\n",
       "      <td>0.172049</td>\n",
       "      <td>0.193954</td>\n",
       "      <td>0.175956</td>\n",
       "    </tr>\n",
       "    <tr>\n",
       "      <th>3</th>\n",
       "      <td>1</td>\n",
       "      <td>BEVERAGES</td>\n",
       "      <td>13</td>\n",
       "      <td>0.036529</td>\n",
       "      <td>0.018366</td>\n",
       "      <td>0.016777</td>\n",
       "      <td>0.019927</td>\n",
       "    </tr>\n",
       "    <tr>\n",
       "      <th>4</th>\n",
       "      <td>1</td>\n",
       "      <td>BOOKS</td>\n",
       "      <td>13</td>\n",
       "      <td>0.129721</td>\n",
       "      <td>0.231963</td>\n",
       "      <td>0.134613</td>\n",
       "      <td>0.027932</td>\n",
       "    </tr>\n",
       "  </tbody>\n",
       "</table>\n",
       "</div>"
      ],
      "text/plain": [
       "   store_nbr      family  cluster  2017-05-08  2017-06-05  2017-07-03  \\\n",
       "0          1  AUTOMOTIVE       13    0.135487    0.155650    0.319663   \n",
       "1          1   BABY CARE       13    0.000000    0.000000    0.000000   \n",
       "2          1      BEAUTY       13    0.133388    0.172049    0.193954   \n",
       "3          1   BEVERAGES       13    0.036529    0.018366    0.016777   \n",
       "4          1       BOOKS       13    0.129721    0.231963    0.134613   \n",
       "\n",
       "   2017-07-31  \n",
       "0    0.249930  \n",
       "1    0.000000  \n",
       "2    0.175956  \n",
       "3    0.019927  \n",
       "4    0.027932  "
      ]
     },
     "execution_count": 5,
     "metadata": {},
     "output_type": "execute_result"
    }
   ],
   "source": [
    "msles_df = msles_df.merge(msles_df3, on=[\"store_nbr\", \"family\"])\n",
    "for cutoff in cutoffs:\n",
    "    msles_df[cutoff] = (msles_df[[cutoff + \"_x\", cutoff + \"_y\"]]).min(axis=1)\n",
    "    msles_df = msles_df.drop([cutoff + \"_x\", cutoff + \"_y\"], axis=1)\n",
    "msles_df.head()"
   ]
  },
  {
   "cell_type": "code",
   "execution_count": 6,
   "metadata": {},
   "outputs": [
    {
     "data": {
      "text/plain": [
       "2017-05-08    0.405977\n",
       "2017-06-05    0.390097\n",
       "2017-07-03    0.382396\n",
       "2017-07-31    0.383456\n",
       "dtype: float64"
      ]
     },
     "execution_count": 6,
     "metadata": {},
     "output_type": "execute_result"
    }
   ],
   "source": [
    "msles_df.iloc[:, 3:].mean()**0.5"
   ]
  },
  {
   "cell_type": "code",
   "execution_count": null,
   "metadata": {},
   "outputs": [],
   "source": []
  }
 ],
 "metadata": {
  "kernelspec": {
   "display_name": ".venv",
   "language": "python",
   "name": "python3"
  },
  "language_info": {
   "codemirror_mode": {
    "name": "ipython",
    "version": 3
   },
   "file_extension": ".py",
   "mimetype": "text/x-python",
   "name": "python",
   "nbconvert_exporter": "python",
   "pygments_lexer": "ipython3",
   "version": "3.11.9"
  }
 },
 "nbformat": 4,
 "nbformat_minor": 2
}
