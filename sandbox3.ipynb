{
 "cells": [
  {
   "cell_type": "code",
   "execution_count": 27,
   "metadata": {},
   "outputs": [],
   "source": [
    "from datetime import date, datetime, timedelta\n",
    "import matplotlib.pyplot as plt\n",
    "import numpy as np\n",
    "import pandas as pd\n",
    "from functools import reduce"
   ]
  },
  {
   "cell_type": "code",
   "execution_count": 28,
   "metadata": {},
   "outputs": [],
   "source": [
    "# load cv msle data\n",
    "msles_df1 = pd.read_csv(\"store_nbr_family_best_msles2.csv\")\n",
    "msles_df2 = pd.read_csv(\"top_down_store_nbr_family_best_msles2.csv\")\n",
    "msles_df3 = pd.read_csv(\"top_down_family_then_store_nbr_best_msles2.csv\")\n",
    "\n",
    "cutoffs = msles_df1.columns[2:]"
   ]
  },
  {
   "cell_type": "code",
   "execution_count": 29,
   "metadata": {},
   "outputs": [],
   "source": [
    "# calculate mean rmsle across folds\n",
    "msles_df1[\"cv_rmsle\"] = (msles_df1.iloc[:, 2:]**0.5).mean(axis=1)\n",
    "msles_df2[\"cv_rmsle\"] = (msles_df2.iloc[:, 3:]**0.5).mean(axis=1)\n",
    "msles_df3[\"cv_rmsle\"] = (msles_df3.iloc[:, 2:]**0.5).mean(axis=1)\n",
    "\n",
    "msles_df1 = msles_df1.drop(cutoffs, axis=1)\n",
    "msles_df2 = msles_df2.drop(cutoffs, axis=1)\n",
    "msles_df3 = msles_df3.drop(cutoffs, axis=1)"
   ]
  },
  {
   "cell_type": "code",
   "execution_count": 30,
   "metadata": {},
   "outputs": [],
   "source": [
    "# merge all msle_dfs\n",
    "msles_df = msles_df1.merge(msles_df2, on=[\"store_nbr\", \"family\"])\n",
    "msles_df = msles_df.rename({\"cv_rmsle_x\":\"cv_rmsle_1\", \"cv_rmsle_y\":\"cv_rmsle_2\"}, axis=1).drop(\"cluster\", axis=1)\n",
    "\n",
    "msles_df = msles_df.merge(msles_df3, on=[\"store_nbr\", \"family\"])\n",
    "msles_df = msles_df.rename({\"cv_rmsle\":\"cv_rmsle_3\"}, axis=1)"
   ]
  },
  {
   "cell_type": "code",
   "execution_count": 31,
   "metadata": {},
   "outputs": [],
   "source": [
    "# argmin of different models\n",
    "msles_df[\"best\"] = msles_df.iloc[:, -3:].idxmin(axis=1)\n",
    "argmin_df = msles_df[[\"store_nbr\", \"family\", \"best\"]]"
   ]
  },
  {
   "cell_type": "code",
   "execution_count": 32,
   "metadata": {},
   "outputs": [
    {
     "data": {
      "text/html": [
       "<div>\n",
       "<style scoped>\n",
       "    .dataframe tbody tr th:only-of-type {\n",
       "        vertical-align: middle;\n",
       "    }\n",
       "\n",
       "    .dataframe tbody tr th {\n",
       "        vertical-align: top;\n",
       "    }\n",
       "\n",
       "    .dataframe thead th {\n",
       "        text-align: right;\n",
       "    }\n",
       "</style>\n",
       "<table border=\"1\" class=\"dataframe\">\n",
       "  <thead>\n",
       "    <tr style=\"text-align: right;\">\n",
       "      <th></th>\n",
       "      <th>best</th>\n",
       "    </tr>\n",
       "    <tr>\n",
       "      <th>best</th>\n",
       "      <th></th>\n",
       "    </tr>\n",
       "  </thead>\n",
       "  <tbody>\n",
       "    <tr>\n",
       "      <th>cv_rmsle_1</th>\n",
       "      <td>1178</td>\n",
       "    </tr>\n",
       "    <tr>\n",
       "      <th>cv_rmsle_2</th>\n",
       "      <td>349</td>\n",
       "    </tr>\n",
       "    <tr>\n",
       "      <th>cv_rmsle_3</th>\n",
       "      <td>255</td>\n",
       "    </tr>\n",
       "  </tbody>\n",
       "</table>\n",
       "</div>"
      ],
      "text/plain": [
       "            best\n",
       "best            \n",
       "cv_rmsle_1  1178\n",
       "cv_rmsle_2   349\n",
       "cv_rmsle_3   255"
      ]
     },
     "execution_count": 32,
     "metadata": {},
     "output_type": "execute_result"
    }
   ],
   "source": [
    "msles_df.groupby(\"best\").agg({\"best\":\"count\"})"
   ]
  },
  {
   "cell_type": "code",
   "execution_count": 43,
   "metadata": {},
   "outputs": [],
   "source": [
    "pred_cols = [\"store_nbr\", \"family\", \"ds\", \"yhat\"]\n",
    "pred_df1 = pd.read_csv(\"single_level_predictions.csv\", usecols=pred_cols)\n",
    "pred_df2 = pd.read_csv(\"top_down_predictions.csv\", usecols=pred_cols)\n",
    "pred_df3 = pd.read_csv(\"family_down_predictions.csv\", usecols=pred_cols)"
   ]
  },
  {
   "cell_type": "code",
   "execution_count": 44,
   "metadata": {},
   "outputs": [],
   "source": [
    "pred_cols = [\"store_nbr\", \"family\", \"ds\", \"yhat\"]\n",
    "\n",
    "pred_df1 = pred_df1.merge(argmin_df, on=[\"store_nbr\", \"family\"])\n",
    "pred_df1 = pred_df1[pred_df1[\"best\"] == \"cv_rmsle_1\"][pred_cols]\n",
    "\n",
    "pred_df2 = pred_df2.merge(argmin_df, on=[\"store_nbr\", \"family\"])\n",
    "pred_df2 = pred_df2[pred_df2[\"best\"] == \"cv_rmsle_2\"][pred_cols]\n",
    "\n",
    "pred_df3 = pred_df3.merge(argmin_df, on=[\"store_nbr\", \"family\"])\n",
    "pred_df3 = pred_df3[pred_df3[\"best\"] == \"cv_rmsle_3\"][pred_cols]"
   ]
  },
  {
   "cell_type": "code",
   "execution_count": 51,
   "metadata": {},
   "outputs": [],
   "source": [
    "pred_df = pd.concat([pred_df1, pred_df2, pred_df3], axis=0)[[\"ds\", \"store_nbr\", \"family\", \"yhat\"]].rename({\"ds\":\"date\", \"yhat\":\"sales\"}, axis=1)"
   ]
  },
  {
   "cell_type": "code",
   "execution_count": 52,
   "metadata": {},
   "outputs": [
    {
     "data": {
      "text/html": [
       "<div>\n",
       "<style scoped>\n",
       "    .dataframe tbody tr th:only-of-type {\n",
       "        vertical-align: middle;\n",
       "    }\n",
       "\n",
       "    .dataframe tbody tr th {\n",
       "        vertical-align: top;\n",
       "    }\n",
       "\n",
       "    .dataframe thead th {\n",
       "        text-align: right;\n",
       "    }\n",
       "</style>\n",
       "<table border=\"1\" class=\"dataframe\">\n",
       "  <thead>\n",
       "    <tr style=\"text-align: right;\">\n",
       "      <th></th>\n",
       "      <th>date</th>\n",
       "      <th>store_nbr</th>\n",
       "      <th>family</th>\n",
       "      <th>yhat</th>\n",
       "    </tr>\n",
       "  </thead>\n",
       "  <tbody>\n",
       "    <tr>\n",
       "      <th>0</th>\n",
       "      <td>2017-08-16</td>\n",
       "      <td>1</td>\n",
       "      <td>AUTOMOTIVE</td>\n",
       "      <td>4.358628</td>\n",
       "    </tr>\n",
       "    <tr>\n",
       "      <th>16</th>\n",
       "      <td>2017-08-16</td>\n",
       "      <td>1</td>\n",
       "      <td>BABY CARE</td>\n",
       "      <td>0.000000</td>\n",
       "    </tr>\n",
       "    <tr>\n",
       "      <th>32</th>\n",
       "      <td>2017-08-16</td>\n",
       "      <td>1</td>\n",
       "      <td>BEAUTY</td>\n",
       "      <td>5.804745</td>\n",
       "    </tr>\n",
       "    <tr>\n",
       "      <th>48</th>\n",
       "      <td>2017-08-16</td>\n",
       "      <td>1</td>\n",
       "      <td>BEVERAGES</td>\n",
       "      <td>2214.814404</td>\n",
       "    </tr>\n",
       "    <tr>\n",
       "      <th>64</th>\n",
       "      <td>2017-08-16</td>\n",
       "      <td>1</td>\n",
       "      <td>BOOKS</td>\n",
       "      <td>0.151595</td>\n",
       "    </tr>\n",
       "    <tr>\n",
       "      <th>...</th>\n",
       "      <td>...</td>\n",
       "      <td>...</td>\n",
       "      <td>...</td>\n",
       "      <td>...</td>\n",
       "    </tr>\n",
       "    <tr>\n",
       "      <th>28447</th>\n",
       "      <td>2017-08-31</td>\n",
       "      <td>54</td>\n",
       "      <td>POULTRY</td>\n",
       "      <td>55.557453</td>\n",
       "    </tr>\n",
       "    <tr>\n",
       "      <th>28463</th>\n",
       "      <td>2017-08-31</td>\n",
       "      <td>54</td>\n",
       "      <td>PREPARED FOODS</td>\n",
       "      <td>83.345249</td>\n",
       "    </tr>\n",
       "    <tr>\n",
       "      <th>28479</th>\n",
       "      <td>2017-08-31</td>\n",
       "      <td>54</td>\n",
       "      <td>PRODUCE</td>\n",
       "      <td>523.416518</td>\n",
       "    </tr>\n",
       "    <tr>\n",
       "      <th>6223</th>\n",
       "      <td>2017-08-31</td>\n",
       "      <td>54</td>\n",
       "      <td>SCHOOL AND OFFICE SUPPLIES</td>\n",
       "      <td>0.000000</td>\n",
       "    </tr>\n",
       "    <tr>\n",
       "      <th>28511</th>\n",
       "      <td>2017-08-31</td>\n",
       "      <td>54</td>\n",
       "      <td>SEAFOOD</td>\n",
       "      <td>1.377469</td>\n",
       "    </tr>\n",
       "  </tbody>\n",
       "</table>\n",
       "<p>28512 rows × 4 columns</p>\n",
       "</div>"
      ],
      "text/plain": [
       "             date  store_nbr                      family         yhat\n",
       "0      2017-08-16          1                  AUTOMOTIVE     4.358628\n",
       "16     2017-08-16          1                   BABY CARE     0.000000\n",
       "32     2017-08-16          1                      BEAUTY     5.804745\n",
       "48     2017-08-16          1                   BEVERAGES  2214.814404\n",
       "64     2017-08-16          1                       BOOKS     0.151595\n",
       "...           ...        ...                         ...          ...\n",
       "28447  2017-08-31         54                     POULTRY    55.557453\n",
       "28463  2017-08-31         54              PREPARED FOODS    83.345249\n",
       "28479  2017-08-31         54                     PRODUCE   523.416518\n",
       "6223   2017-08-31         54  SCHOOL AND OFFICE SUPPLIES     0.000000\n",
       "28511  2017-08-31         54                     SEAFOOD     1.377469\n",
       "\n",
       "[28512 rows x 4 columns]"
      ]
     },
     "execution_count": 52,
     "metadata": {},
     "output_type": "execute_result"
    }
   ],
   "source": [
    "pred_df"
   ]
  },
  {
   "cell_type": "code",
   "execution_count": null,
   "metadata": {},
   "outputs": [],
   "source": []
  }
 ],
 "metadata": {
  "kernelspec": {
   "display_name": ".venv",
   "language": "python",
   "name": "python3"
  },
  "language_info": {
   "codemirror_mode": {
    "name": "ipython",
    "version": 3
   },
   "file_extension": ".py",
   "mimetype": "text/x-python",
   "name": "python",
   "nbconvert_exporter": "python",
   "pygments_lexer": "ipython3",
   "version": "3.11.9"
  }
 },
 "nbformat": 4,
 "nbformat_minor": 2
}
