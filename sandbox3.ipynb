{
 "cells": [
  {
   "cell_type": "code",
   "execution_count": null,
   "metadata": {},
   "outputs": [],
   "source": [
    "from datetime import date, datetime, timedelta\n",
    "import matplotlib.pyplot as plt\n",
    "import numpy as np\n",
    "import pandas as pd\n",
    "from functools import reduce"
   ]
  },
  {
   "cell_type": "code",
   "execution_count": null,
   "metadata": {},
   "outputs": [],
   "source": [
    "hp_df1 = pd.read_csv(\"store_nbr_family_hyperparams2_1.csv\")\n",
    "hp_df2 = pd.read_csv(\"store_nbr_family_hyperparams2_2.csv\")\n",
    "hp_df3 = pd.read_csv(\"store_nbr_family_hyperparams2_3.csv\")\n",
    "hp_df4 = pd.read_csv(\"store_nbr_family_hyperparams2_4.csv\")\n",
    "hp_df = pd.concat([hp_df1, hp_df2, hp_df3, hp_df4], axis=0)\n",
    "hp_df.to_csv(\"store_nbr_family_hyperparams2.csv\")\n",
    "hp_df.head()"
   ]
  },
  {
   "cell_type": "code",
   "execution_count": null,
   "metadata": {},
   "outputs": [],
   "source": [
    "msles_df1 = pd.read_csv(\"store_nbr_family_best_msles.csv\")\n",
    "msles_df2 = pd.read_csv(\"top_down_store_nbr_family_best_msles.csv\")\n",
    "msles_df3 = pd.read_csv(\"top_down_family_then_store_nbr_best_msles.csv\")"
   ]
  },
  {
   "cell_type": "code",
   "execution_count": null,
   "metadata": {},
   "outputs": [],
   "source": [
    "cutoffs = msles_df1.columns[2:]"
   ]
  },
  {
   "cell_type": "code",
   "execution_count": null,
   "metadata": {},
   "outputs": [],
   "source": [
    "msles_df = msles_df1.merge(msles_df2, on=[\"store_nbr\", \"family\"])\n",
    "for cutoff in cutoffs:\n",
    "    msles_df[cutoff] = (msles_df[[cutoff + \"_x\", cutoff + \"_y\"]]).min(axis=1)\n",
    "    msles_df = msles_df.drop([cutoff + \"_x\", cutoff + \"_y\"], axis=1)\n",
    "msles_df.head()"
   ]
  },
  {
   "cell_type": "code",
   "execution_count": null,
   "metadata": {},
   "outputs": [],
   "source": [
    "msles_df = msles_df.merge(msles_df3, on=[\"store_nbr\", \"family\"])\n",
    "for cutoff in cutoffs:\n",
    "    msles_df[cutoff] = (msles_df[[cutoff + \"_x\", cutoff + \"_y\"]]).min(axis=1)\n",
    "    msles_df = msles_df.drop([cutoff + \"_x\", cutoff + \"_y\"], axis=1)\n",
    "msles_df.head()"
   ]
  },
  {
   "cell_type": "code",
   "execution_count": null,
   "metadata": {},
   "outputs": [],
   "source": [
    "msles_df.iloc[:, 3:].mean()**0.5"
   ]
  },
  {
   "cell_type": "code",
   "execution_count": null,
   "metadata": {},
   "outputs": [],
   "source": [
    "msles_df1[\"cv_msle\"] = msles_df1.iloc[:, 2:].mean(axis=1)\n",
    "msles_df1.groupby(\"family\").agg({\"cv_msle\":\"mean\"}).sort_values(\"cv_msle\")"
   ]
  },
  {
   "cell_type": "code",
   "execution_count": null,
   "metadata": {},
   "outputs": [],
   "source": [
    "msles_df2[\"cv_msle\"] = msles_df2.iloc[:, 3:].mean(axis=1)\n",
    "msles_df2.groupby(\"family\").agg({\"cv_msle\":\"mean\"}).sort_values(\"cv_msle\")"
   ]
  },
  {
   "cell_type": "code",
   "execution_count": null,
   "metadata": {},
   "outputs": [],
   "source": []
  }
 ],
 "metadata": {
  "kernelspec": {
   "display_name": ".venv",
   "language": "python",
   "name": "python3"
  },
  "language_info": {
   "codemirror_mode": {
    "name": "ipython",
    "version": 3
   },
   "file_extension": ".py",
   "mimetype": "text/x-python",
   "name": "python",
   "nbconvert_exporter": "python",
   "pygments_lexer": "ipython3",
   "version": "3.11.9"
  }
 },
 "nbformat": 4,
 "nbformat_minor": 2
}
